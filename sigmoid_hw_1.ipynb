{
 "cells": [
  {
   "cell_type": "markdown",
   "id": "74b6f897-b78d-4a1b-85ec-34fbc17f22b6",
   "metadata": {},
   "source": [
    "# Sigmoid Homwork #1"
   ]
  },
  {
   "cell_type": "markdown",
   "id": "5d88fab1-9aa0-4933-9b6f-16cb53d671a8",
   "metadata": {},
   "source": [
    "## File handling"
   ]
  },
  {
   "cell_type": "code",
   "execution_count": 3,
   "id": "e621a598-cad7-4eb3-8405-50c190287b2e",
   "metadata": {},
   "outputs": [],
   "source": [
    "# open a file"
   ]
  },
  {
   "cell_type": "code",
   "execution_count": 2,
   "id": "73e72007-88cf-43b4-915a-3dd600504ace",
   "metadata": {},
   "outputs": [
    {
     "name": "stdout",
     "output_type": "stream",
     "text": [
      "<_io.TextIOWrapper name='file.txt' mode='r' encoding='cp1251'>\n"
     ]
    }
   ],
   "source": [
    "f = open(\"file.txt\", \"r\")\n",
    "print(f)"
   ]
  },
  {
   "cell_type": "code",
   "execution_count": 6,
   "id": "2a741b37-9f04-4ef9-a3f8-cd504a432b80",
   "metadata": {},
   "outputs": [],
   "source": [
    "# close a file"
   ]
  },
  {
   "cell_type": "code",
   "execution_count": 5,
   "id": "6955ca10-4c96-48b2-bbce-9336660ce54d",
   "metadata": {},
   "outputs": [],
   "source": [
    "file = open(\"file.txt\", \"r\")\n",
    "file.close()"
   ]
  },
  {
   "cell_type": "code",
   "execution_count": 7,
   "id": "80c69e36-a5d4-4633-b102-624adc864f51",
   "metadata": {},
   "outputs": [],
   "source": [
    "# checking file properties"
   ]
  },
  {
   "cell_type": "code",
   "execution_count": 8,
   "id": "c523eda3-7417-4747-8a23-03fcf3b494b1",
   "metadata": {},
   "outputs": [
    {
     "name": "stdout",
     "output_type": "stream",
     "text": [
      "filename: file.txt\n",
      "mode: r\n",
      "is closed? False\n",
      "is closed? True\n"
     ]
    }
   ],
   "source": [
    "f = open(\"file.txt\", \"r\")\n",
    "print(\"filename:\", f.name)\n",
    "print(\"mode:\", f.mode)\n",
    "print(\"is closed?\", f.closed)\n",
    "f.close()\n",
    "print(\"is closed?\", f.closed)"
   ]
  },
  {
   "cell_type": "code",
   "execution_count": 9,
   "id": "bd466278-4e4c-48b1-b7cd-890db9880871",
   "metadata": {},
   "outputs": [],
   "source": [
    "# reading a file"
   ]
  },
  {
   "cell_type": "code",
   "execution_count": 10,
   "id": "f99b4488-30d2-4af8-8bce-13c22b0d4dba",
   "metadata": {},
   "outputs": [
    {
     "name": "stdout",
     "output_type": "stream",
     "text": [
      "Lorem ipsum dolor sit amet, consectetur adipiscing elit, sed do eiusmod tempor incididunt ut labore et dolore magna aliqua. Ut enim ad minim veniam, quis nostrud exercitation ullamco laboris nisi ut aliquip ex ea commodo consequat. Duis aute irure dolor in reprehenderit in voluptate velit esse cillum dolore eu fugiat nulla pariatur. Excepteur sint occaecat cupidatat non proident, sunt in culpa qui officia deserunt mollit anim id est laborum.\n"
     ]
    }
   ],
   "source": [
    "file = open(\"file.txt\", \"r\")\n",
    "content = file.read()\n",
    "print(content)\n",
    "file.close()"
   ]
  },
  {
   "cell_type": "code",
   "execution_count": 11,
   "id": "17e0b834-b456-4a0b-9741-a7ef205f4a8a",
   "metadata": {},
   "outputs": [],
   "source": [
    "# writing a file"
   ]
  },
  {
   "cell_type": "code",
   "execution_count": 12,
   "id": "3f461ee5-7847-4d09-a26a-3084fb0672d9",
   "metadata": {},
   "outputs": [
    {
     "name": "stdout",
     "output_type": "stream",
     "text": [
      "file written successfully\n"
     ]
    }
   ],
   "source": [
    "with open(\"file.txt\", \"w\") as file:\n",
    "    file.write(\"noroc\\n\")\n",
    "    file.write(\":))))))))\")\n",
    "    \n",
    "print(\"file written successfully\")"
   ]
  },
  {
   "cell_type": "code",
   "execution_count": 13,
   "id": "cc60818e-b4ba-4aa9-9832-2165590f2f2b",
   "metadata": {},
   "outputs": [],
   "source": [
    "file.close()"
   ]
  },
  {
   "cell_type": "code",
   "execution_count": 14,
   "id": "c3bfe28a-7277-4078-abf9-adae917aa02d",
   "metadata": {},
   "outputs": [
    {
     "name": "stdout",
     "output_type": "stream",
     "text": [
      "noroc\n",
      ":))))))))\n"
     ]
    }
   ],
   "source": [
    "file = open(\"file.txt\", \"r\")\n",
    "content = file.read()\n",
    "print(content)\n",
    "file.close()"
   ]
  },
  {
   "cell_type": "code",
   "execution_count": 15,
   "id": "f145ed55-c861-4b99-b873-c5c3f8f2a723",
   "metadata": {},
   "outputs": [],
   "source": [
    "# with statement"
   ]
  },
  {
   "cell_type": "code",
   "execution_count": 16,
   "id": "eaf7ca18-d59b-4b01-a77b-a3203baeebba",
   "metadata": {},
   "outputs": [
    {
     "name": "stdout",
     "output_type": "stream",
     "text": [
      "noroc\n",
      ":))))))))\n"
     ]
    }
   ],
   "source": [
    "with open(\"file.txt\", \"r\") as file:\n",
    "    content = file.read()\n",
    "    print(content)"
   ]
  },
  {
   "cell_type": "code",
   "execution_count": 17,
   "id": "7298fc5a-c7e8-4194-8bc6-47261ff3e3aa",
   "metadata": {},
   "outputs": [],
   "source": [
    "# handling exceptions when closing"
   ]
  },
  {
   "cell_type": "code",
   "execution_count": 18,
   "id": "38f2ea28-5fbc-4014-aff3-b1b5fff9a3fe",
   "metadata": {},
   "outputs": [
    {
     "name": "stdout",
     "output_type": "stream",
     "text": [
      "noroc\n",
      ":))))))))\n"
     ]
    }
   ],
   "source": [
    "try:\n",
    "    file = open(\"file.txt\", \"r\")\n",
    "    content = file.read()\n",
    "    print(content)\n",
    "finally:\n",
    "    file.close()"
   ]
  },
  {
   "cell_type": "markdown",
   "id": "2c7b3814-a5e4-4567-aec3-7cbc6564bc7f",
   "metadata": {},
   "source": [
    "## Regular expressions"
   ]
  },
  {
   "cell_type": "code",
   "execution_count": 20,
   "id": "7c8ea47a-d1e4-4997-bd34-d6d2366a1050",
   "metadata": {},
   "outputs": [],
   "source": [
    "import re"
   ]
  },
  {
   "cell_type": "code",
   "execution_count": 22,
   "id": "9eaa0c3a-adba-4607-8337-a4ae389d5e1e",
   "metadata": {},
   "outputs": [],
   "source": [
    "# list of matches"
   ]
  },
  {
   "cell_type": "code",
   "execution_count": 21,
   "id": "9230ea00-c291-47ac-91aa-f23d8440f65c",
   "metadata": {},
   "outputs": [
    {
     "name": "stdout",
     "output_type": "stream",
     "text": [
      "['mo']\n"
     ]
    }
   ],
   "source": [
    "txt = \"sigmoid\"\n",
    "x = re.findall(\"mo\", txt)\n",
    "print(x)"
   ]
  },
  {
   "cell_type": "code",
   "execution_count": 23,
   "id": "2f93879e-771e-4d05-a6cf-a6be9d728837",
   "metadata": {},
   "outputs": [
    {
     "name": "stdout",
     "output_type": "stream",
     "text": [
      "[]\n"
     ]
    }
   ],
   "source": [
    "txt = \"sigmoid\"\n",
    "x = re.findall(\"a\", txt)\n",
    "print(x)"
   ]
  },
  {
   "cell_type": "code",
   "execution_count": 27,
   "id": "51b6618b-4c7b-40b0-9f6d-4dc68e5b1593",
   "metadata": {},
   "outputs": [],
   "source": [
    "# split()"
   ]
  },
  {
   "cell_type": "code",
   "execution_count": 28,
   "id": "93885c79-ef5b-4801-82c8-f65f5eb5feaa",
   "metadata": {},
   "outputs": [
    {
     "name": "stdout",
     "output_type": "stream",
     "text": [
      "['sig', 'moid']\n"
     ]
    }
   ],
   "source": [
    "txt = \"sig moid\"\n",
    "x = re.split(\"\\s\", txt)\n",
    "print(x)"
   ]
  },
  {
   "cell_type": "code",
   "execution_count": 30,
   "id": "8ada3d68-010b-4eac-a0d8-73d42e6cb5a3",
   "metadata": {},
   "outputs": [],
   "source": [
    "# sub()"
   ]
  },
  {
   "cell_type": "code",
   "execution_count": 29,
   "id": "048ba173-a8bd-446f-ba3d-f8b137722539",
   "metadata": {},
   "outputs": [
    {
     "name": "stdout",
     "output_type": "stream",
     "text": [
      "sig9moid\n"
     ]
    }
   ],
   "source": [
    "txt = \"sig moid\"\n",
    "x = re.sub(\"\\s\", \"9\", txt)\n",
    "print(x)"
   ]
  },
  {
   "cell_type": "code",
   "execution_count": 31,
   "id": "d4ac6d49-a4bc-4a04-bb4c-5c1ad39949d6",
   "metadata": {},
   "outputs": [],
   "source": [
    "# match obj"
   ]
  },
  {
   "cell_type": "code",
   "execution_count": 32,
   "id": "2441f901-d24c-4d55-9423-655db29eda3e",
   "metadata": {},
   "outputs": [
    {
     "name": "stdout",
     "output_type": "stream",
     "text": [
      "<re.Match object; span=(3, 5), match='mo'>\n"
     ]
    }
   ],
   "source": [
    "txt = \"sigmoid\"\n",
    "x = re.search(\"mo\", txt)\n",
    "print(x)"
   ]
  },
  {
   "cell_type": "code",
   "execution_count": 33,
   "id": "bd4cd6d1-7265-4ab9-b946-2ba7dd54029e",
   "metadata": {},
   "outputs": [
    {
     "name": "stdout",
     "output_type": "stream",
     "text": [
      "(0, 7)\n"
     ]
    }
   ],
   "source": [
    "txt = \"sigmoid\"\n",
    "x = re.search(r\"\\bs\\w+\", txt)\n",
    "print(x.span())"
   ]
  },
  {
   "cell_type": "code",
   "execution_count": 39,
   "id": "bff70878-e2d3-434e-93f1-f0d3a4869f04",
   "metadata": {},
   "outputs": [],
   "source": [
    "# print the string"
   ]
  },
  {
   "cell_type": "code",
   "execution_count": 38,
   "id": "0a0a934f-1427-4a13-b8e3-a5dd9dabda2a",
   "metadata": {},
   "outputs": [
    {
     "name": "stdout",
     "output_type": "stream",
     "text": [
      "sigmo id\n"
     ]
    }
   ],
   "source": [
    "txt = \"sigmo id\"\n",
    "x = re.search(r\"\\bs\\w+\", txt)\n",
    "print(x.string)"
   ]
  },
  {
   "cell_type": "markdown",
   "id": "f76e095d-4ac9-4839-8e4d-31f6122ecad5",
   "metadata": {},
   "source": [
    "## API"
   ]
  },
  {
   "cell_type": "code",
   "execution_count": 10,
   "id": "9dd2a360-47e7-49c2-ab7e-a401465d6b21",
   "metadata": {},
   "outputs": [
    {
     "name": "stdout",
     "output_type": "stream",
     "text": [
      "Raw API response: {'coord': {'lon': -0.1257, 'lat': 51.5085}, 'weather': [{'id': 800, 'main': 'Clear', 'description': 'clear sky', 'icon': '01d'}], 'base': 'stations', 'main': {'temp': 17.74, 'feels_like': 17.63, 'temp_min': 16.97, 'temp_max': 18.96, 'pressure': 1008, 'humidity': 79, 'sea_level': 1008, 'grnd_level': 1004}, 'visibility': 10000, 'wind': {'speed': 7.2, 'deg': 110}, 'clouds': {'all': 0}, 'dt': 1757229877, 'sys': {'type': 2, 'id': 2075535, 'country': 'GB', 'sunrise': 1757222574, 'sunset': 1757270071}, 'timezone': 3600, 'id': 2643743, 'name': 'London', 'cod': 200}\n",
      " Temperature (°C) = 17.74\n",
      " Pressure (hPa) = 1008\n",
      " Humidity (%) = 79\n",
      " Description = clear sky\n"
     ]
    }
   ],
   "source": [
    "import requests\n",
    "\n",
    "api_key = \"f6d1db36aa496b52f5f84a713f3bcc47\"\n",
    "city_name = \"London\"\n",
    "base_url = \"http://api.openweathermap.org/data/2.5/weather?\"\n",
    "\n",
    "complete_url = base_url + \"q=\" + city_name + \"&appid=\" + api_key + \"&units=metric\"\n",
    "\n",
    "response = requests.get(complete_url)\n",
    "x = response.json()\n",
    "\n",
    "print(\"Raw API response:\", x)   # debugging\n",
    "\n",
    "if str(x.get(\"cod\")) == \"200\":   \n",
    "    y = x[\"main\"]\n",
    "    current_temperature = y[\"temp\"]\n",
    "    current_pressure = y[\"pressure\"]\n",
    "    current_humidity = y[\"humidity\"]\n",
    "\n",
    "    z = x[\"weather\"]\n",
    "    weather_description = z[0][\"description\"]\n",
    "\n",
    "    print(\" Temperature (°C) = \" + str(current_temperature) +\n",
    "          \"\\n Pressure (hPa) = \" + str(current_pressure) +\n",
    "          \"\\n Humidity (%) = \" + str(current_humidity) +\n",
    "          \"\\n Description = \" + str(weather_description))\n",
    "else:\n",
    "    print(\"Error:\", x.get(\"message\"))"
   ]
  },
  {
   "cell_type": "markdown",
   "id": "f50a2b09-4bc4-4680-980f-c9dcbf1f0bbe",
   "metadata": {},
   "source": [
    "## OOP (polymorphism)"
   ]
  },
  {
   "cell_type": "code",
   "execution_count": 11,
   "id": "3db60595-8407-44fa-9a44-7da9eb6531a9",
   "metadata": {},
   "outputs": [],
   "source": [
    "# base class"
   ]
  },
  {
   "cell_type": "code",
   "execution_count": 12,
   "id": "43e7448f-381d-4fe4-bc1b-68ad64f57a34",
   "metadata": {},
   "outputs": [],
   "source": [
    "class Person:\n",
    "    def __init__(self, name, age):\n",
    "        self.name = name\n",
    "        self.age = age\n",
    "\n",
    "    def introduce(self):\n",
    "        print(f\"hello, I'm {self.name}, and I'm {self.age} years old.\")"
   ]
  },
  {
   "cell_type": "code",
   "execution_count": 13,
   "id": "598f2d97-40c5-4c6d-90de-d65a784b4dcb",
   "metadata": {},
   "outputs": [],
   "source": [
    "# subclass: student"
   ]
  },
  {
   "cell_type": "code",
   "execution_count": 15,
   "id": "a43c493d-3f26-47fc-80e8-7f7f567b4d8d",
   "metadata": {},
   "outputs": [],
   "source": [
    "class Student(Person):\n",
    "    def __init__(self, name, age, grade):\n",
    "        super().__init__(name, age)  \n",
    "        self.grade = grade\n",
    "\n",
    "    def introduce(self):\n",
    "        print(f\"I'm {self.name}, {self.age} years old, and I'm in grade {self.grade}.\")"
   ]
  },
  {
   "cell_type": "code",
   "execution_count": 16,
   "id": "dc6d0716-67c4-40d6-9e48-cdd5c48f7408",
   "metadata": {},
   "outputs": [],
   "source": [
    "# subclass: teacher "
   ]
  },
  {
   "cell_type": "code",
   "execution_count": 18,
   "id": "065e7e82-0ae6-457b-870d-e76d96136967",
   "metadata": {},
   "outputs": [],
   "source": [
    "class Teacher(Person):\n",
    "    def __init__(self, name, age, subject):\n",
    "        super().__init__(name, age)\n",
    "        self.subject = subject\n",
    "\n",
    "    def introduce(self):\n",
    "        print(f\"my name is {self.name}, I'm {self.age}, and I teach {self.subject}.\")"
   ]
  },
  {
   "cell_type": "code",
   "execution_count": 19,
   "id": "4beb0b85-241c-455d-a9e3-9e21f56b410a",
   "metadata": {},
   "outputs": [],
   "source": [
    "# create obj"
   ]
  },
  {
   "cell_type": "code",
   "execution_count": 20,
   "id": "39e897da-0f54-4da9-a41d-3f9248036aa2",
   "metadata": {},
   "outputs": [],
   "source": [
    "student1 = Student(\"Ema\", 15, 9)\n",
    "teacher1 = Teacher(\"Mr. Smith\", 40, \"English\")"
   ]
  },
  {
   "cell_type": "code",
   "execution_count": 22,
   "id": "01eb2ad2-281a-4e5a-a308-9d2d07ed1067",
   "metadata": {},
   "outputs": [
    {
     "name": "stdout",
     "output_type": "stream",
     "text": [
      "I'm Ema, 15 years old, and I'm in grade 9.\n",
      "my name is Mr. Smith, I'm 40, and I teach English.\n"
     ]
    }
   ],
   "source": [
    "for person in (student1, teacher1):\n",
    "    person.introduce()\n"
   ]
  }
 ],
 "metadata": {
  "kernelspec": {
   "display_name": "Python 3 (ipykernel)",
   "language": "python",
   "name": "python3"
  },
  "language_info": {
   "codemirror_mode": {
    "name": "ipython",
    "version": 3
   },
   "file_extension": ".py",
   "mimetype": "text/x-python",
   "name": "python",
   "nbconvert_exporter": "python",
   "pygments_lexer": "ipython3",
   "version": "3.10.11"
  }
 },
 "nbformat": 4,
 "nbformat_minor": 5
}
